from pyspark.sql import SparkSession

# Create a Spark session
spark = SparkSession.builder \
    .appName("EDA") \
    .master("local[*]") \
    .config("spark.authenticate", "false") \
    .getOrCreate()


data_path



