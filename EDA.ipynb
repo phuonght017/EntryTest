{
 "cells": [
  {
   "cell_type": "code",
   "execution_count": 1,
   "id": "257ebefe-69b4-4f1d-ad6b-514a24d3e60c",
   "metadata": {},
   "outputs": [],
   "source": [
    "from pyspark.sql import SparkSession\n",
    "from pyspark.sql import functions as F\n",
    "from pyspark.sql.functions import col, isnan\n",
    "from pyspark.sql.types import IntegerType, FloatType, StringType, TimestampType\n",
    "from pyspark.sql.window import Window"
   ]
  },
  {
   "cell_type": "code",
   "execution_count": 2,
   "id": "61f611cf-9148-4496-8228-cf1dd1a49c60",
   "metadata": {},
   "outputs": [
    {
     "name": "stderr",
     "output_type": "stream",
     "text": [
      "Setting default log level to \"WARN\".\n",
      "To adjust logging level use sc.setLogLevel(newLevel). For SparkR, use setLogLevel(newLevel).\n",
      "25/03/27 23:11:11 WARN NativeCodeLoader: Unable to load native-hadoop library for your platform... using builtin-java classes where applicable\n"
     ]
    },
    {
     "name": "stdout",
     "output_type": "stream",
     "text": [
      "Spark version:  3.5.5\n",
      "+------+-------------+--------------------+--------+--------------------+----------------------+-----------+--------------+\n",
      "|UserId|TransactionId|     TransactionTime|ItemCode|     ItemDescription|NumberOfItemsPurchased|CostPerItem|       Country|\n",
      "+------+-------------+--------------------+--------+--------------------+----------------------+-----------+--------------+\n",
      "|278166|      6355745|Sat Feb 02 12:50:...|  465549|FAMILY ALBUM WHIT...|                     6|      11.73|United Kingdom|\n",
      "|337701|      6283376|Wed Dec 26 09:06:...|  482370|LONDON BUS COFFEE...|                     3|       3.52|United Kingdom|\n",
      "|267099|      6385599|Fri Feb 15 09:45:...|  490728|SET 12 COLOUR PEN...|                    72|        0.9|        France|\n",
      "|380478|      6044973|Fri Jun 22 07:14:...|  459186|UNION JACK FLAG L...|                     3|       1.73|United Kingdom|\n",
      "|    -1|      6143225|Mon Sep 10 11:58:...| 1733592| WASHROOM METAL SIGN|                     3|        3.4|United Kingdom|\n",
      "|285957|      6307136|Fri Jan 11 09:50:...| 1787247|CUT GLASS T-LIGHT...|                    12|       3.52|United Kingdom|\n",
      "|345954|      6162981|Fri Sep 28 10:51:...|  471576|NATURAL SLATE CHA...|                     9|       6.84|United Kingdom|\n",
      "|    -1|      6143225|Mon Sep 10 11:58:...|  447867| SKULLS WRITING SET |                   120|       1.15|United Kingdom|\n",
      "|339822|      6255403|Mon Dec 10 09:23:...| 1783845|MULTI COLOUR SILV...|                    36|       1.18|United Kingdom|\n",
      "|328440|      6387425|Sat Feb 16 10:35:...|  494802|SET OF 6 RIBBONS ...|                    36|       3.99|United Kingdom|\n",
      "|316848|      6262696|Sat Dec 15 10:05:...|  460215|RED  HARMONICA IN...|                    36|       1.73|United Kingdom|\n",
      "|372897|      6199061|Mon Oct 29 09:04:...|  459669|WOODEN BOX OF DOM...|                     3|       1.73|United Kingdom|\n",
      "|364791|      6358242|Sun Feb 03 09:25:...|  486276|SET OF 5 MINI GRO...|                     3|       2.88|United Kingdom|\n",
      "|    -1|      6058140|Mon Jul 02 07:33:...|  435225|LUNCH BAG RED RET...|                    60|       6.85|United Kingdom|\n",
      "|321321|      6254358|Mon Dec 10 05:43:...|  455868|FOLDING UMBRELLA ...|                    12|       6.84|United Kingdom|\n",
      "|304353|      6328674|Mon Jan 21 09:54:...|  477246|ALARM CLOCK BAKEL...|                    24|       5.18|United Kingdom|\n",
      "|369852|      6075883|Sat Jul 21 08:14:...|  477036|  CARD CIRCUS PARADE|                    36|       0.58|United Kingdom|\n",
      "|    -1|      6288843|Sun Dec 30 12:58:...|  489594|VINTAGE CHRISTMAS...|                     3|      34.45|United Kingdom|\n",
      "|278985|      6064025|Mon Jul 09 09:03:...| 1771938|SET OF 3 HEART CO...|                    36|       1.73|United Kingdom|\n",
      "|331884|      6223569|Sun Nov 18 11:14:...|  461622|PACK OF 12 SUKI T...|                    72|       0.54|United Kingdom|\n",
      "+------+-------------+--------------------+--------+--------------------+----------------------+-----------+--------------+\n",
      "only showing top 20 rows\n",
      "\n"
     ]
    }
   ],
   "source": [
    "# Create a Spark session\n",
    "spark = SparkSession.builder \\\n",
    "    .appName(\"TestApp\") \\\n",
    "    .master(\"local[*]\") \\\n",
    "    .getOrCreate()\n",
    "spark.conf.set(\"spark.sql.legacy.timeParserPolicy\", \"LEGACY\")\n",
    "# Verify SparkSession is created by checking version\n",
    "print(\"Spark version: \", spark.version)\n",
    "\n",
    "# Test Spark functionality\n",
    "df = spark.read.csv('data/transaction_data.csv', header=True)\n",
    "\n",
    "# Show the DataFrame\n",
    "df.show()"
   ]
  },
  {
   "cell_type": "markdown",
   "id": "c3bd8ba1-fb34-4e23-8f92-57449310cba4",
   "metadata": {},
   "source": [
    "## Q1. Clean data and filter Outliers"
   ]
  },
  {
   "cell_type": "markdown",
   "id": "af2313ce-5516-41f8-bc26-080f84207441",
   "metadata": {},
   "source": [
    "### Step 1: Handle Null or missing values"
   ]
  },
  {
   "cell_type": "code",
   "execution_count": 3,
   "id": "2e0b292b-6408-465f-9ab5-5fb30e2338a1",
   "metadata": {},
   "outputs": [
    {
     "name": "stderr",
     "output_type": "stream",
     "text": [
      "                                                                                \r"
     ]
    },
    {
     "name": "stdout",
     "output_type": "stream",
     "text": [
      "Before: 1083818 rows\n"
     ]
    },
    {
     "name": "stderr",
     "output_type": "stream",
     "text": [
      "                                                                                \r"
     ]
    },
    {
     "name": "stdout",
     "output_type": "stream",
     "text": [
      "After: 536572 rows\n"
     ]
    },
    {
     "name": "stderr",
     "output_type": "stream",
     "text": [
      "                                                                                \r"
     ]
    },
    {
     "name": "stdout",
     "output_type": "stream",
     "text": [
      "Column: UserId, Missing Value Percentage: 0.000000% - 0 rows\n"
     ]
    },
    {
     "name": "stderr",
     "output_type": "stream",
     "text": [
      "                                                                                \r"
     ]
    },
    {
     "name": "stdout",
     "output_type": "stream",
     "text": [
      "Column: TransactionId, Missing Value Percentage: 0.000000% - 0 rows\n"
     ]
    },
    {
     "name": "stderr",
     "output_type": "stream",
     "text": [
      "                                                                                \r"
     ]
    },
    {
     "name": "stdout",
     "output_type": "stream",
     "text": [
      "Column: TransactionTime, Missing Value Percentage: 0.000000% - 0 rows\n"
     ]
    },
    {
     "name": "stderr",
     "output_type": "stream",
     "text": [
      "                                                                                \r"
     ]
    },
    {
     "name": "stdout",
     "output_type": "stream",
     "text": [
      "Column: ItemCode, Missing Value Percentage: 0.000000% - 0 rows\n"
     ]
    },
    {
     "name": "stderr",
     "output_type": "stream",
     "text": [
      "                                                                                \r"
     ]
    },
    {
     "name": "stdout",
     "output_type": "stream",
     "text": [
      "Column: ItemDescription, Missing Value Percentage: 0.270979% - 1454 rows\n"
     ]
    },
    {
     "name": "stderr",
     "output_type": "stream",
     "text": [
      "                                                                                \r"
     ]
    },
    {
     "name": "stdout",
     "output_type": "stream",
     "text": [
      "Column: NumberOfItemsPurchased, Missing Value Percentage: 0.000000% - 0 rows\n"
     ]
    },
    {
     "name": "stderr",
     "output_type": "stream",
     "text": [
      "                                                                                \r"
     ]
    },
    {
     "name": "stdout",
     "output_type": "stream",
     "text": [
      "Column: CostPerItem, Missing Value Percentage: 0.000000% - 0 rows\n"
     ]
    },
    {
     "name": "stderr",
     "output_type": "stream",
     "text": [
      "[Stage 41:>                                                         (0 + 8) / 8]\r"
     ]
    },
    {
     "name": "stdout",
     "output_type": "stream",
     "text": [
      "Column: Country, Missing Value Percentage: 0.000000% - 0 rows\n"
     ]
    },
    {
     "name": "stderr",
     "output_type": "stream",
     "text": [
      "                                                                                \r"
     ]
    }
   ],
   "source": [
    "# Drop duplicated rows\n",
    "print(f'Before: {df.count()} rows')\n",
    "df = df.dropDuplicates()\n",
    "print(f'After: {df.count()} rows')\n",
    "\n",
    "total_rows = df.count()\n",
    "for column in df.columns:\n",
    "    missing_count = df.filter(col(column).isNull() | isnan(col(column))).count()\n",
    "    missing_percentage = (missing_count / total_rows) * 100\n",
    "    print(f\"Column: {column}, Missing Value Percentage: {missing_percentage:.6f}% - {missing_count} rows\")"
   ]
  },
  {
   "cell_type": "markdown",
   "id": "005d9417-7855-44ce-8dc4-505b26891462",
   "metadata": {},
   "source": [
    "`ItemDescription` (0.27%):\n",
    "\n",
    "- The `ItemDescription` column has a small proportion of missing values (0.27% of the data). Since the dataset contains a relatively small number of missing rows, the decision is to fill these missing values with the placeholder 'N/A'.\n",
    "\n",
    "- Filling missing values with 'N/A' is appropriate because:\n",
    "\n",
    "    + Minimal Impact: The percentage of missing data is small, so it won’t drastically affect the dataset's overall integrity.\n",
    "\n",
    "    + Maintaining Consistency: Filling with 'N/A' ensures that no rows are removed, preserving the dataset size for analysis.\n",
    "\n",
    "    + Descriptive Placeholder: 'N/A' clearly indicates the absence of a description, making it easy to identify and address during analysis.\n",
    "\n",
    "Other columns have no missing values -> No action required"
   ]
  },
  {
   "cell_type": "code",
   "execution_count": 4,
   "id": "808d4bb2-90a9-4ac4-91bf-81bdaa741e66",
   "metadata": {},
   "outputs": [
    {
     "name": "stderr",
     "output_type": "stream",
     "text": [
      "[Stage 44:====================================>                     (5 + 3) / 8]\r"
     ]
    },
    {
     "name": "stdout",
     "output_type": "stream",
     "text": [
      "Column: ItemDescription, Missing Value Percentage: 0.000000% - 0 rows\n"
     ]
    },
    {
     "name": "stderr",
     "output_type": "stream",
     "text": [
      "                                                                                \r"
     ]
    }
   ],
   "source": [
    "df_cleaned = df.fillna({'ItemDescription': 'N/A'})\n",
    "\n",
    "# Verify after cleaning\n",
    "column = 'ItemDescription'\n",
    "missing_count = df_cleaned.filter(col(column).isNull() | isnan(col(column))).count()\n",
    "missing_percentage = (missing_count / total_rows) * 100\n",
    "print(f\"Column: {column}, Missing Value Percentage: {missing_percentage:.6f}% - {missing_count} rows\")"
   ]
  },
  {
   "cell_type": "markdown",
   "id": "e8309cf1-39eb-4b49-a7b1-6b4d34413bee",
   "metadata": {},
   "source": [
    "### Step 2: Correct data types\n",
    "- UserId: string\n",
    "- TransactionId: string\n",
    "- TransactionTime: timestamp\n",
    "- ItemCode: string\n",
    "- ItemDescription: string\n",
    "- NumberOfItemsPurchased: integer\n",
    "- CostPerItem: float\n",
    "- Country: string"
   ]
  },
  {
   "cell_type": "code",
   "execution_count": 5,
   "id": "8ed8a4e0-bfd3-4b39-b011-d595d4b10553",
   "metadata": {},
   "outputs": [
    {
     "name": "stdout",
     "output_type": "stream",
     "text": [
      "Column: UserId, Data Type: string\n",
      "Column: TransactionId, Data Type: string\n",
      "Column: TransactionTime, Data Type: string\n",
      "Column: ItemCode, Data Type: string\n",
      "Column: ItemDescription, Data Type: string\n",
      "Column: NumberOfItemsPurchased, Data Type: string\n",
      "Column: CostPerItem, Data Type: string\n",
      "Column: Country, Data Type: string\n"
     ]
    }
   ],
   "source": [
    "# Print data type of each column\n",
    "for column, dtype in df_cleaned.dtypes:\n",
    "    print(f\"Column: {column}, Data Type: {dtype}\")"
   ]
  },
  {
   "cell_type": "code",
   "execution_count": 6,
   "id": "964f6676-8067-4b77-8823-58d45fb26ae2",
   "metadata": {},
   "outputs": [],
   "source": [
    "# Cast columns to appropriate data types\n",
    "datetime_format = 'EEE MMM dd HH:mm:ss zzzz yyyy'\n",
    "\n",
    "# Cast the column to timestamp\n",
    "df_casted = df_cleaned.withColumn('TransactionTime', F.to_timestamp('TransactionTime', datetime_format))\n",
    "df_casted = df_casted.withColumn('NumberOfItemsPurchased', F.col('NumberOfItemsPurchased').cast(IntegerType()))\n",
    "df_casted = df_casted.withColumn('CostPerItem', F.col('CostPerItem').cast(FloatType()))"
   ]
  },
  {
   "cell_type": "code",
   "execution_count": 7,
   "id": "dda25f83-c221-4f52-b9f2-f1dac24d718a",
   "metadata": {},
   "outputs": [
    {
     "name": "stdout",
     "output_type": "stream",
     "text": [
      "Column: UserId, Data Type: string\n",
      "Column: TransactionId, Data Type: string\n",
      "Column: TransactionTime, Data Type: timestamp\n",
      "Column: ItemCode, Data Type: string\n",
      "Column: ItemDescription, Data Type: string\n",
      "Column: NumberOfItemsPurchased, Data Type: int\n",
      "Column: CostPerItem, Data Type: float\n",
      "Column: Country, Data Type: string\n"
     ]
    },
    {
     "name": "stderr",
     "output_type": "stream",
     "text": [
      "[Stage 47:=======>                                                  (1 + 7) / 8]\r"
     ]
    },
    {
     "name": "stdout",
     "output_type": "stream",
     "text": [
      "+------+-------------+-------------------+--------+--------------------+----------------------+-----------+--------------+\n",
      "|UserId|TransactionId|    TransactionTime|ItemCode|     ItemDescription|NumberOfItemsPurchased|CostPerItem|       Country|\n",
      "+------+-------------+-------------------+--------+--------------------+----------------------+-----------+--------------+\n",
      "|    -1|      6143225|2018-09-10 16:58:00|  447867| SKULLS WRITING SET |                   120|       1.15|United Kingdom|\n",
      "|313131|      6333261|2019-01-23 11:32:00|  464898|BAKING SET 9 PIEC...|                    18|       6.84|          EIRE|\n",
      "|267708|      6360321|2019-02-04 12:47:00|  491232|SPACEBOY ROCKET L...|                     3|       2.88|United Kingdom|\n",
      "|259917|      5968446|2018-04-11 16:45:00|  445326|STRAWBERRY HONEYC...|                    36|       2.28|   Switzerland|\n",
      "|289107|      6240806|2018-12-01 16:53:00|  464394|HOT WATER BOTTLE ...|                    72|       5.18|United Kingdom|\n",
      "|308175|      6360805|2019-02-04 13:58:00|  485520|PACK OF 6 SMALL F...|                     3|       0.58|United Kingdom|\n",
      "|259770|      5927086|2018-02-25 13:58:00|  449190|FILIGRIS HEART WI...|                    72|       1.73|        Cyprus|\n",
      "|    -1|      6016439|2018-05-30 12:22:00| 1783866|ANTIQUE SILVER T-...|                     9|       1.73|United Kingdom|\n",
      "|281442|      6186257|2018-10-16 16:51:00|  470967|ENAMEL FLOWER JUG...|                     9|       8.22|United Kingdom|\n",
      "|357882|      6040419|2018-06-18 15:53:00|  455175|BUTTERFLIES STICKERS|                    18|       1.18|United Kingdom|\n",
      "|372897|      6094638|2018-08-01 17:04:00|  454041|VINTAGE UNION JAC...|                     6|      11.73|United Kingdom|\n",
      "|287889|      6294640|2019-01-02 16:18:00|  484932|LARGE ANTIQUE WHI...|                     6|      10.91|United Kingdom|\n",
      "|371616|      6152630|2018-09-18 16:44:00|  478947|SET OF 6 T-LIGHTS...|                    18|       4.08|United Kingdom|\n",
      "|    -1|      6324637|2019-01-20 11:51:00|  469455|CHARLOTTE BAG SUK...|                   279|        3.4|United Kingdom|\n",
      "|297276|      6056798|2018-07-01 14:09:00|  435771|FUNKY WASHING UP ...|                    36|        2.9|          EIRE|\n",
      "|315189|      6368373|2019-02-08 14:35:00|  476679|ROSES REGENCY TEA...|                     3|       4.08|United Kingdom|\n",
      "|    -1|      6157756|2018-09-23 14:30:00|  434217|  PINK POLKADOT BOWL|                     6|        3.4|United Kingdom|\n",
      "|    -1|      6168503|2018-10-01 17:17:00|  479094|   CARD PARTY GAMES |                    33|       0.58|United Kingdom|\n",
      "|290598|      5907462|2018-02-16 11:45:00|  449967|SKULLS STORAGE BO...|                     3|        2.9|United Kingdom|\n",
      "|312753|      6370001|2019-02-09 11:49:00| 1788843|CHARLIE & LOLA WA...|                    36|       1.73|United Kingdom|\n",
      "+------+-------------+-------------------+--------+--------------------+----------------------+-----------+--------------+\n",
      "only showing top 20 rows\n",
      "\n"
     ]
    },
    {
     "name": "stderr",
     "output_type": "stream",
     "text": [
      "                                                                                \r"
     ]
    }
   ],
   "source": [
    "# Print data type of each column\n",
    "for column, dtype in df_casted.dtypes:\n",
    "    print(f\"Column: {column}, Data Type: {dtype}\")\n",
    "df_casted.show()"
   ]
  },
  {
   "cell_type": "markdown",
   "id": "0727cc12-d5d6-402e-ae97-9d702a0371e2",
   "metadata": {},
   "source": [
    "### Step 3: Filter and Treat Outliers"
   ]
  },
  {
   "cell_type": "markdown",
   "id": "d49cf71e-308e-4052-90b6-e7f20fd5767c",
   "metadata": {},
   "source": [
    "Outliers typically exist in numerical columns, and they can significantly impact the performance and accuracy of machine learning models. In our dataset, the following columns are numerical and could potentially contain outliers:\n",
    "\n",
    "- `NumberOfItemsPurchased`: This column represents the total number of items purchased, which is a numeric value.\n",
    "\n",
    "- `CostPerItem`: This column represents the cost of each item purchased, which is also numeric."
   ]
  },
  {
   "cell_type": "code",
   "execution_count": 8,
   "id": "aca9d526-d838-41c5-a3a0-1ae841613bb7",
   "metadata": {},
   "outputs": [
    {
     "name": "stderr",
     "output_type": "stream",
     "text": [
      "[Stage 52:>                                                         (0 + 8) / 9]\r"
     ]
    },
    {
     "name": "stdout",
     "output_type": "stream",
     "text": [
      "+-------+----------------------+\n",
      "|summary|NumberOfItemsPurchased|\n",
      "+-------+----------------------+\n",
      "|  count|                536572|\n",
      "|   mean|     28.86212661115377|\n",
      "| stddev|     657.4326449645174|\n",
      "|    min|               -242985|\n",
      "|    max|                242985|\n",
      "+-------+----------------------+\n",
      "\n"
     ]
    },
    {
     "name": "stderr",
     "output_type": "stream",
     "text": [
      "                                                                                \r"
     ]
    }
   ],
   "source": [
    "# Compute summary statistics\n",
    "column = 'NumberOfItemsPurchased'\n",
    "summary_df = df_casted.describe([column])\n",
    "summary_df.show()"
   ]
  },
  {
   "cell_type": "markdown",
   "id": "8aa34667-1d55-4d01-9abb-033fed43fbff",
   "metadata": {},
   "source": [
    "Issues Detected:\n",
    "- Negative Values (min = -242,985)\n",
    "\n",
    "    + Logically, `NumberOfItemsPurchased` should never be negative.\n",
    "\n",
    "    + Possible causes: data entry errors, refunds/mistaken deductions recorded incorrectly.\n",
    "\n",
    "- Extreme Outliers (max = 242,985 & stddev = 657.43)\n",
    "\n",
    "    + Mean is only 28.66, but max is 242,985 → Suggests huge outliers.\n",
    "\n",
    "    + High standard deviation (654) relative to the mean suggests extreme variation."
   ]
  },
  {
   "cell_type": "code",
   "execution_count": 9,
   "id": "d7cb64fb-501a-4fe1-90dd-45ed7250924f",
   "metadata": {},
   "outputs": [
    {
     "name": "stderr",
     "output_type": "stream",
     "text": [
      "                                                                                \r"
     ]
    },
    {
     "name": "stdout",
     "output_type": "stream",
     "text": [
      "+-------+----------------------+\n",
      "|summary|NumberOfItemsPurchased|\n",
      "+-------+----------------------+\n",
      "|  count|                525986|\n",
      "|   mean|     32.19496336404391|\n",
      "| stddev|     472.8059451987196|\n",
      "|    min|                     3|\n",
      "|    max|                242985|\n",
      "+-------+----------------------+\n",
      "\n"
     ]
    },
    {
     "name": "stderr",
     "output_type": "stream",
     "text": [
      "[Stage 66:=======>                                                  (1 + 7) / 8]\r"
     ]
    },
    {
     "name": "stdout",
     "output_type": "stream",
     "text": [
      "+-------+----------------------+\n",
      "|summary|NumberOfItemsPurchased|\n",
      "+-------+----------------------+\n",
      "|  count|                469463|\n",
      "|   mean|    14.233025818861124|\n",
      "| stddev|     13.34794069707312|\n",
      "|    min|                     3|\n",
      "|    max|                    69|\n",
      "+-------+----------------------+\n",
      "\n"
     ]
    },
    {
     "name": "stderr",
     "output_type": "stream",
     "text": [
      "                                                                                \r"
     ]
    }
   ],
   "source": [
    "# Remove negative values\n",
    "df_filtered = df_casted.filter(col(column) >= 0)\n",
    "# Verify after filtering\n",
    "summary_df = df_filtered.describe([column])\n",
    "summary_df.show()\n",
    "\n",
    "# Use IQR to remove outliers\n",
    "q1, q3 = df_filtered.approxQuantile(column, [0.25, 0.75], 0.01)\n",
    "iqr = q3 - q1\n",
    "lower_bound = max(q1 - 1.5 * iqr, 0)  # Ensure no negatives\n",
    "upper_bound = q3 + 1.5 * iqr\n",
    "df_filtered = df_filtered.filter((col(column) >= lower_bound) & \n",
    "                        (col(column) <= upper_bound))\n",
    "# Verify after filtering\n",
    "summary_df = df_filtered.describe([column])\n",
    "summary_df.show()"
   ]
  },
  {
   "cell_type": "code",
   "execution_count": 10,
   "id": "a79bdc1a-1ead-40fe-8b5b-9f35b8963904",
   "metadata": {},
   "outputs": [
    {
     "name": "stderr",
     "output_type": "stream",
     "text": [
      "[Stage 74:>                                                         (0 + 8) / 9]\r"
     ]
    },
    {
     "name": "stdout",
     "output_type": "stream",
     "text": [
      "+-------+-----------------+\n",
      "|summary|      CostPerItem|\n",
      "+-------+-----------------+\n",
      "|  count|           469463|\n",
      "|   mean|9.388288694970152|\n",
      "| stddev|2476.452940245975|\n",
      "|    min|        -15265.64|\n",
      "|    max|        1696285.5|\n",
      "+-------+-----------------+\n",
      "\n"
     ]
    },
    {
     "name": "stderr",
     "output_type": "stream",
     "text": [
      "                                                                                \r"
     ]
    }
   ],
   "source": [
    "# Compute summary statistics\n",
    "column = 'CostPerItem'\n",
    "summary_df = df_filtered.describe([column])\n",
    "summary_df.show()"
   ]
  },
  {
   "cell_type": "markdown",
   "id": "c40a8031-efc2-44b0-9002-1dab0b61e217",
   "metadata": {},
   "source": [
    "Issues Detected:\n",
    "- Negative Values (min = -15,265.64)\n",
    "\n",
    "    + Logically, `CostPerItem` should never be negative.\n",
    "\n",
    "- Extreme Outliers (max = 1,696,285.5)\n",
    "\n",
    "    + The max value is much larger than the mean (9.39) and standard deviation (2,476.45)."
   ]
  },
  {
   "cell_type": "code",
   "execution_count": 11,
   "id": "f79e259a-c2ab-4c1c-a6ae-395b14369a93",
   "metadata": {},
   "outputs": [
    {
     "name": "stderr",
     "output_type": "stream",
     "text": [
      "                                                                                \r"
     ]
    },
    {
     "name": "stdout",
     "output_type": "stream",
     "text": [
      "+-------+------------------+\n",
      "|summary|       CostPerItem|\n",
      "+-------+------------------+\n",
      "|  count|            469461|\n",
      "|   mean| 9.453363442125431|\n",
      "| stddev|2476.2575123442357|\n",
      "|    min|               0.0|\n",
      "|    max|         1696285.5|\n",
      "+-------+------------------+\n",
      "\n"
     ]
    },
    {
     "name": "stderr",
     "output_type": "stream",
     "text": [
      "[Stage 88:=======>                                                  (1 + 7) / 8]\r"
     ]
    },
    {
     "name": "stdout",
     "output_type": "stream",
     "text": [
      "+-------+------------------+\n",
      "|summary|       CostPerItem|\n",
      "+-------+------------------+\n",
      "|  count|            438503|\n",
      "|   mean| 3.848816805364888|\n",
      "| stddev|2.8163446099997533|\n",
      "|    min|               0.0|\n",
      "|    max|             11.73|\n",
      "+-------+------------------+\n",
      "\n"
     ]
    },
    {
     "name": "stderr",
     "output_type": "stream",
     "text": [
      "                                                                                \r"
     ]
    }
   ],
   "source": [
    "# Remove negative values\n",
    "df_filtered = df_filtered.filter(col(column) >= 0)\n",
    "# Verify after filtering\n",
    "summary_df = df_filtered.describe([column])\n",
    "summary_df.show()\n",
    "\n",
    "# Use IQR to remove outliers\n",
    "q1, q3 = df_filtered.approxQuantile(column, [0.25, 0.75], 0.01)\n",
    "iqr = q3 - q1\n",
    "lower_bound = max(q1 - 1.5 * iqr, 0)  # Ensure no negatives\n",
    "upper_bound = q3 + 1.5 * iqr\n",
    "df_filtered = df_filtered.filter((col(column) >= lower_bound) & \n",
    "                        (col(column) <= upper_bound))\n",
    "# Verify after filtering\n",
    "summary_df = df_filtered.describe([column])\n",
    "summary_df.show()"
   ]
  },
  {
   "cell_type": "code",
   "execution_count": 12,
   "id": "4a00990b-1fb2-42c8-91bf-5bc8b10f0ba1",
   "metadata": {},
   "outputs": [
    {
     "name": "stderr",
     "output_type": "stream",
     "text": [
      "                                                                                \r"
     ]
    },
    {
     "name": "stdout",
     "output_type": "stream",
     "text": [
      "Number of rows after filtering: 436062\n"
     ]
    },
    {
     "name": "stderr",
     "output_type": "stream",
     "text": [
      "[Stage 100:=================================================>       (7 + 1) / 8]\r"
     ]
    },
    {
     "name": "stdout",
     "output_type": "stream",
     "text": [
      "+------+-------------+-------------------+--------+--------------------+----------------------+-----------+--------------+\n",
      "|UserId|TransactionId|    TransactionTime|ItemCode|     ItemDescription|NumberOfItemsPurchased|CostPerItem|       Country|\n",
      "+------+-------------+-------------------+--------+--------------------+----------------------+-----------+--------------+\n",
      "|313131|      6333261|2019-01-23 11:32:00|  464898|BAKING SET 9 PIEC...|                    18|       6.84|          EIRE|\n",
      "|267708|      6360321|2019-02-04 12:47:00|  491232|SPACEBOY ROCKET L...|                     3|       2.88|United Kingdom|\n",
      "|259917|      5968446|2018-04-11 16:45:00|  445326|STRAWBERRY HONEYC...|                    36|       2.28|   Switzerland|\n",
      "|308175|      6360805|2019-02-04 13:58:00|  485520|PACK OF 6 SMALL F...|                     3|       0.58|United Kingdom|\n",
      "|    -1|      6016439|2018-05-30 12:22:00| 1783866|ANTIQUE SILVER T-...|                     9|       1.73|United Kingdom|\n",
      "|281442|      6186257|2018-10-16 16:51:00|  470967|ENAMEL FLOWER JUG...|                     9|       8.22|United Kingdom|\n",
      "|357882|      6040419|2018-06-18 15:53:00|  455175|BUTTERFLIES STICKERS|                    18|       1.18|United Kingdom|\n",
      "|372897|      6094638|2018-08-01 17:04:00|  454041|VINTAGE UNION JAC...|                     6|      11.73|United Kingdom|\n",
      "|287889|      6294640|2019-01-02 16:18:00|  484932|LARGE ANTIQUE WHI...|                     6|      10.91|United Kingdom|\n",
      "|371616|      6152630|2018-09-18 16:44:00|  478947|SET OF 6 T-LIGHTS...|                    18|       4.08|United Kingdom|\n",
      "|297276|      6056798|2018-07-01 14:09:00|  435771|FUNKY WASHING UP ...|                    36|        2.9|          EIRE|\n",
      "|315189|      6368373|2019-02-08 14:35:00|  476679|ROSES REGENCY TEA...|                     3|       4.08|United Kingdom|\n",
      "|    -1|      6157756|2018-09-23 14:30:00|  434217|  PINK POLKADOT BOWL|                     6|        3.4|United Kingdom|\n",
      "|    -1|      6168503|2018-10-01 17:17:00|  479094|   CARD PARTY GAMES |                    33|       0.58|United Kingdom|\n",
      "|290598|      5907462|2018-02-16 11:45:00|  449967|SKULLS STORAGE BO...|                     3|        2.9|United Kingdom|\n",
      "|312753|      6370001|2019-02-09 11:49:00| 1788843|CHARLIE & LOLA WA...|                    36|       1.73|United Kingdom|\n",
      "|341082|      6264808|2018-12-16 15:53:00|  492114|3 RAFFIA RIBBONS ...|                    30|        1.1|United Kingdom|\n",
      "|    -1|      6173299|2018-10-06 17:57:00|  487179|    JUMBO BAG APPLES|                    18|       2.88|United Kingdom|\n",
      "|    -1|      6326947|2019-01-20 19:41:00|  491211| I LOVE LONDON MI...|                     9|       5.73|United Kingdom|\n",
      "|351666|      6145656|2018-09-12 13:09:00|  435183|STRAWBERRY CHARLO...|                    30|       1.18|United Kingdom|\n",
      "+------+-------------+-------------------+--------+--------------------+----------------------+-----------+--------------+\n",
      "only showing top 20 rows\n",
      "\n"
     ]
    },
    {
     "name": "stderr",
     "output_type": "stream",
     "text": [
      "                                                                                \r"
     ]
    }
   ],
   "source": [
    "# Remove transactions with TransactionTime later than the current time\n",
    "current_time = F.current_timestamp()\n",
    "df_filtered = df_filtered.filter(F.col(\"TransactionTime\") <= current_time)\n",
    "print(f'Number of rows after filtering: {df_filtered.count()}')\n",
    "df_filtered.show()"
   ]
  },
  {
   "cell_type": "markdown",
   "id": "b8815193-b2b2-493b-9132-9c009ef9f5de",
   "metadata": {},
   "source": [
    "## Q2. Calculate the number of Items purchased and prices in each month"
   ]
  },
  {
   "cell_type": "code",
   "execution_count": 13,
   "id": "305f3864-b942-400b-83a6-0c0f0287f9a4",
   "metadata": {},
   "outputs": [
    {
     "name": "stderr",
     "output_type": "stream",
     "text": [
      "[Stage 105:>                                                        (0 + 8) / 8]\r"
     ]
    },
    {
     "name": "stdout",
     "output_type": "stream",
     "text": [
      "+---------------+----------------+-------------------+----------+\n",
      "|TransactionYear|TransactionMonth|TotalItemsPurchased|TotalPrice|\n",
      "+---------------+----------------+-------------------+----------+\n",
      "|           2018|               2|             358755|1248032.27|\n",
      "|           2018|               3|             261936| 815143.14|\n",
      "|           2018|               4|             352611|1139592.33|\n",
      "|           2018|               5|             392427|1235253.51|\n",
      "|           2018|               6|             440889| 1330984.5|\n",
      "|           2018|               7|             437631|1388303.55|\n",
      "|           2018|               8|             430794|1332500.52|\n",
      "|           2018|               9|             453969|1346345.55|\n",
      "|           2018|              10|             475326|1411838.88|\n",
      "|           2018|              11|             506772|1538477.25|\n",
      "|           2018|              12|             797394|2418128.53|\n",
      "|           2019|               1|             885156|2636481.46|\n",
      "|           2019|               2|             670869|2070865.06|\n",
      "+---------------+----------------+-------------------+----------+\n",
      "\n"
     ]
    },
    {
     "name": "stderr",
     "output_type": "stream",
     "text": [
      "                                                                                \r"
     ]
    }
   ],
   "source": [
    "# Extract month, year from TransactionTime\n",
    "df_temp = df_filtered.withColumn(\"TransactionMonth\", F.month(\"TransactionTime\"))\n",
    "df_temp = df_temp.withColumn(\"TransactionYear\", F.year(\"TransactionTime\"))\n",
    "result = df_temp.groupBy(\"TransactionYear\", \"TransactionMonth\") \\\n",
    "           .agg(\n",
    "               F.sum(\"NumberOfItemsPurchased\").alias(\"TotalItemsPurchased\"),\n",
    "               F.round(F.sum(F.col(\"CostPerItem\") * F.col(\"NumberOfItemsPurchased\")), 2).alias(\"TotalPrice\")\n",
    "           )\n",
    "\n",
    "result = result.orderBy(\"TransactionYear\", \"TransactionMonth\")\n",
    "result.show()"
   ]
  },
  {
   "cell_type": "code",
   "execution_count": 14,
   "id": "164ea458-26e8-41b7-960d-aac65903dfd8",
   "metadata": {},
   "outputs": [
    {
     "name": "stderr",
     "output_type": "stream",
     "text": [
      "                                                                                \r"
     ]
    }
   ],
   "source": [
    "# Save result to local\n",
    "result.write \\\n",
    "    .mode('overwrite') \\\n",
    "    .option(\"header\", \"true\") \\\n",
    "    .csv('data/total_by_month.csv')"
   ]
  },
  {
   "cell_type": "markdown",
   "id": "afe24a47-dafb-4cf6-8cd2-31ac130fc22e",
   "metadata": {},
   "source": [
    "## Q3. Calculate the number of items purchased for each userID in 30 days for each day"
   ]
  },
  {
   "cell_type": "code",
   "execution_count": 15,
   "id": "36f60ec0-fc6c-4f8f-999a-b95171c7cf15",
   "metadata": {},
   "outputs": [
    {
     "name": "stderr",
     "output_type": "stream",
     "text": [
      "[Stage 124:===================>                                     (3 + 6) / 9]\r"
     ]
    },
    {
     "name": "stdout",
     "output_type": "stream",
     "text": [
      "+------+----------+-------------------+----------------------+-----------------------------+\n",
      "|UserId|Timestamp |TransactionTime    |NumberOfItemsPurchased|NumberOfItemsPurchased_30days|\n",
      "+------+----------+-------------------+----------------------+-----------------------------+\n",
      "|259287|1523206800|2018-04-09 15:30:00|36                    |504                          |\n",
      "|259287|1523206800|2018-04-09 15:30:00|30                    |504                          |\n",
      "|259287|1523206800|2018-04-09 15:30:00|30                    |504                          |\n",
      "|259287|1523206800|2018-04-09 15:30:00|12                    |504                          |\n",
      "|259287|1523206800|2018-04-09 15:30:00|12                    |504                          |\n",
      "|259287|1523206800|2018-04-09 15:30:00|12                    |504                          |\n",
      "|259287|1523206800|2018-04-09 15:30:00|12                    |504                          |\n",
      "|259287|1523206800|2018-04-09 15:30:00|18                    |504                          |\n",
      "|259287|1523206800|2018-04-09 15:30:00|36                    |504                          |\n",
      "|259287|1523206800|2018-04-09 15:30:00|30                    |504                          |\n",
      "|259287|1523206800|2018-04-09 15:30:00|18                    |504                          |\n",
      "|259287|1523206800|2018-04-09 15:30:00|12                    |504                          |\n",
      "|259287|1523206800|2018-04-09 15:30:00|30                    |504                          |\n",
      "|259287|1523206800|2018-04-09 15:30:00|18                    |504                          |\n",
      "|259287|1523206800|2018-04-09 15:30:00|36                    |504                          |\n",
      "|259287|1523206800|2018-04-09 15:30:00|36                    |504                          |\n",
      "|259287|1523206800|2018-04-09 15:30:00|12                    |504                          |\n",
      "|259287|1523206800|2018-04-09 15:30:00|36                    |504                          |\n",
      "|259287|1523206800|2018-04-09 15:30:00|36                    |504                          |\n",
      "|259287|1523206800|2018-04-09 15:30:00|18                    |504                          |\n",
      "+------+----------+-------------------+----------------------+-----------------------------+\n",
      "only showing top 20 rows\n",
      "\n"
     ]
    },
    {
     "name": "stderr",
     "output_type": "stream",
     "text": [
      "                                                                                \r"
     ]
    }
   ],
   "source": [
    "# Remove UserID = -1\n",
    "df_filtered = df_filtered.filter(df_filtered[\"UserID\"] != -1)\n",
    "df_temp = df_filtered.withColumn(\"Date\", F.to_date(\"TransactionTime\"))\n",
    "df_temp = df_temp.withColumn(\"Timestamp\", F.unix_timestamp(\"Date\"))\n",
    "\n",
    "# Define the window specification to partition by userID, order by Timestamp\n",
    "# The range is in seconds, so -30*24*60*60 gives the 30-day range in seconds\n",
    "windowSpec = Window.partitionBy(\"UserID\").orderBy(\"Timestamp\").rangeBetween(-30*24*60*60, 0)\n",
    "\n",
    "# Calculate the number of items purchased in the last 30 days for each user\n",
    "result = df_temp.withColumn(\"NumberOfItemsPurchased_30days\", F.sum(\"NumberOfItemsPurchased\").over(windowSpec))\n",
    "result.select('UserId','Timestamp', 'TransactionTime', 'NumberOfItemsPurchased', 'NumberOfItemsPurchased_30days').show(truncate=False)"
   ]
  },
  {
   "cell_type": "code",
   "execution_count": 16,
   "id": "986d8a4e-fae0-4129-9f29-2fcbbecdc588",
   "metadata": {},
   "outputs": [
    {
     "name": "stderr",
     "output_type": "stream",
     "text": [
      "                                                                                \r"
     ]
    }
   ],
   "source": [
    "# Save result to local\n",
    "result.write \\\n",
    "    .mode('overwrite') \\\n",
    "    .option(\"header\", \"true\") \\\n",
    "    .csv('data/30days')"
   ]
  },
  {
   "cell_type": "markdown",
   "id": "e306a2db-5fb0-4e65-80c1-a3301096121e",
   "metadata": {},
   "source": [
    "## Final Dataset for Recommendation Models"
   ]
  },
  {
   "cell_type": "code",
   "execution_count": 17,
   "id": "d3097420-d865-401d-9896-15fd0d191102",
   "metadata": {},
   "outputs": [
    {
     "name": "stdout",
     "output_type": "stream",
     "text": [
      "root\n",
      " |-- UserId: string (nullable = true)\n",
      " |-- TransactionId: string (nullable = true)\n",
      " |-- TransactionTime: timestamp (nullable = true)\n",
      " |-- ItemCode: string (nullable = true)\n",
      " |-- ItemDescription: string (nullable = false)\n",
      " |-- NumberOfItemsPurchased: integer (nullable = true)\n",
      " |-- CostPerItem: float (nullable = true)\n",
      " |-- Country: string (nullable = true)\n",
      "\n"
     ]
    }
   ],
   "source": [
    "df_filtered.printSchema()"
   ]
  },
  {
   "cell_type": "code",
   "execution_count": 19,
   "id": "07e52ae7-3065-4e38-8723-b4abfcb821c1",
   "metadata": {},
   "outputs": [
    {
     "name": "stderr",
     "output_type": "stream",
     "text": [
      "                                                                                \r"
     ]
    },
    {
     "name": "stdout",
     "output_type": "stream",
     "text": [
      "Final dataset size: 320579\n"
     ]
    },
    {
     "name": "stderr",
     "output_type": "stream",
     "text": [
      "                                                                                \r"
     ]
    }
   ],
   "source": [
    "final_df = df_filtered\n",
    "print(f'Final dataset size: {final_df.count()}')\n",
    "final_df.write \\\n",
    "    .mode('overwrite') \\\n",
    "    .option(\"header\", \"true\") \\\n",
    "    .csv('data/cleaned_dataset')"
   ]
  },
  {
   "cell_type": "code",
   "execution_count": 20,
   "id": "4eed4c5e-538b-441c-b36a-01e9beca1445",
   "metadata": {},
   "outputs": [],
   "source": [
    "spark.stop()"
   ]
  },
  {
   "cell_type": "code",
   "execution_count": null,
   "id": "fa4999de-7dcb-4e0a-8b19-6e5829588bb2",
   "metadata": {},
   "outputs": [],
   "source": []
  }
 ],
 "metadata": {
  "kernelspec": {
   "display_name": "Python 3 (ipykernel)",
   "language": "python",
   "name": "python3"
  },
  "language_info": {
   "codemirror_mode": {
    "name": "ipython",
    "version": 3
   },
   "file_extension": ".py",
   "mimetype": "text/x-python",
   "name": "python",
   "nbconvert_exporter": "python",
   "pygments_lexer": "ipython3",
   "version": "3.12.4"
  }
 },
 "nbformat": 4,
 "nbformat_minor": 5
}
